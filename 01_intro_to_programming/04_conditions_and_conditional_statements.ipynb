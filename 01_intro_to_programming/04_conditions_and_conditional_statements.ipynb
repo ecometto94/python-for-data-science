{
 "cells": [
  {
   "cell_type": "markdown",
   "metadata": {},
   "source": [
    "# Introduction\n",
    "\n",
    "You have already seen that when you change the input value to a function, you often get a different output. For instance, consider an ``add_five()`` function that just adds five to any number and returns the result. Then ``add_five(7)`` will return an output of 12 (=7+5), and ``add_five(8)`` will return an output of 13 (=8+5). Note that no matter what the input is, the action that the function performs is always the same: it always adds five.\n",
    "\n",
    "But you might instead need a function that performs an action that depends on the input. For instance, you might need a function ``add_three_or_eight()`` that adds three if the input is less than 10, and adds eight if the input is 10 or more. Then ``add_three_or_eight(1)`` will return 4 (= 1+3), but ``add_three_or_eight(11)`` will return 19 (=11+8). In this case, the action that the function performs varies with the input.\n",
    "\n",
    "In this lesson, you will learn how to use conditions and conditional statements to modify how your functions run."
   ]
  },
  {
   "cell_type": "markdown",
   "metadata": {},
   "source": [
    "# Conditions\n",
    "In programming, **conditions** are statements that are either ``True`` or ``False``. There are many different ways to write conditions in Python, but some of the most common ways of writing conditions just compare two different values. For instance, you can check if 2 is greater than 3."
   ]
  },
  {
   "cell_type": "code",
   "execution_count": 1,
   "metadata": {},
   "outputs": [
    {
     "name": "stdout",
     "output_type": "stream",
     "text": [
      "False\n"
     ]
    }
   ],
   "source": [
    "print(2 > 3)"
   ]
  },
  {
   "cell_type": "markdown",
   "metadata": {},
   "source": [
    "Python identifies this as False, since 2 is not greater than 3.\n",
    "\n",
    "You can also use conditions to compare the values of variables. In the next code cell, ``var_one`` has a value of 1, and ``var_two`` has a value of two. In the conditions, we check if ``var_one`` is less than 1 (which is ``False``), and we check if ``var_two`` is greater than or equal to ``var_one`` (which is ``True``)."
   ]
  },
  {
   "cell_type": "code",
   "execution_count": 2,
   "metadata": {},
   "outputs": [
    {
     "name": "stdout",
     "output_type": "stream",
     "text": [
      "False\n",
      "True\n"
     ]
    }
   ],
   "source": [
    "var_one = 1\n",
    "var_two = 2\n",
    "\n",
    "print(var_one < 1)\n",
    "print(var_two >= var_one)"
   ]
  },
  {
   "cell_type": "markdown",
   "metadata": {},
   "source": [
    "For a list of common symbols you can use to construct conditions, check out the chart below.\n",
    "\n",
    "| Symbol | Meaning                  |\n",
    "| ------ | ------------------------ |\n",
    "| ==\t | equals                   |\n",
    "| !=\t | does not equal           |\n",
    "| <\t     | less than                |\n",
    "| <=\t | less than or equal to    |\n",
    "| >\t     | greater than             |\n",
    "| >=\t | greater than or equal to |\n",
    "\n",
    "**Important Note**: When you check two values are equal, make sure you use the == sign, and not the = sign.\n",
    "\n",
    "- ``var_one==1`` checks if the value of ``var_one`` is 1, but\n",
    "- ``var_one=1`` sets the value of ``var_one`` to 1."
   ]
  },
  {
   "cell_type": "markdown",
   "metadata": {},
   "source": [
    "# Conditional statements\n",
    "**Conditional statements** use conditions to modify how your function runs. They check the value of a condition, and if the condition evaluates to ``True``, then a certain block of code is executed. (Otherwise, if the condition is ``False``, then the code is not run.)\n",
    "\n",
    "You will see several examples of this in the following sections.\n",
    "\n",
    "## \"if\" statements\n",
    "The simplest type of conditional statement is an \"if\" statement. You can see an example of this in the ``evaluate_temp()`` function below. The function accepts a body temperature (in Celcius) as input.\n",
    "\n",
    "- Initially, ``message`` is set to ``\"Normal temperature\"``.\n",
    "- Then, if ``temp > 38`` is ``True`` (e.g., the body temperature is greater than 38°C), the message is updated to ``\"Fever!\"``. Otherwise, if ``temp > 38`` is False, then the message is not updated.\n",
    "- Finally, ``message`` is returned by the function."
   ]
  },
  {
   "cell_type": "code",
   "execution_count": 3,
   "metadata": {},
   "outputs": [],
   "source": [
    "def evaluate_temp(temp):\n",
    "    # Set an initial message\n",
    "    message = \"Normal temperature.\"\n",
    "    # Update value of message only if temperature greater than 38\n",
    "    if temp > 38:\n",
    "        message = \"Fever!\"\n",
    "    return message"
   ]
  },
  {
   "cell_type": "markdown",
   "metadata": {},
   "source": [
    "In the next code cell, we call the function, where the temperature is 37°C. The message is ``\"Normal temperature\"``, because the temperature is less than 38°C (``temp > 38`` evaluates to ``False``) in this case."
   ]
  },
  {
   "cell_type": "code",
   "execution_count": 4,
   "metadata": {},
   "outputs": [
    {
     "name": "stdout",
     "output_type": "stream",
     "text": [
      "Normal temperature.\n"
     ]
    }
   ],
   "source": [
    "print(evaluate_temp(37))"
   ]
  },
  {
   "cell_type": "markdown",
   "metadata": {},
   "source": [
    "However, if the temperature is instead 39°C, since this is greater than 38°C, the message is updated to ``\"Fever!\"``."
   ]
  },
  {
   "cell_type": "code",
   "execution_count": 5,
   "metadata": {},
   "outputs": [
    {
     "name": "stdout",
     "output_type": "stream",
     "text": [
      "Fever!\n"
     ]
    }
   ],
   "source": [
    "print(evaluate_temp(39))"
   ]
  },
  {
   "cell_type": "markdown",
   "metadata": {},
   "source": [
    "Note that there are two levels of indentation:\n",
    "\n",
    "- The first level of indentation is because we always need to indent the code block inside a function.\n",
    "- The second level of indentation is because we also need to indent the code block belonging to the \"if\" statement. (As you'll see, we'll also need to indent the code blocks for \"elif\" and \"else\" statements.)\n",
    "\n",
    "\n",
    "Note that because the return statement is not indented under the \"if\" statement, it is always executed, whether ``temp > 38`` is ``True`` or ``False``."
   ]
  },
  {
   "cell_type": "markdown",
   "metadata": {},
   "source": [
    "# \"if ... else\" statements\n",
    "We can use \"else\" statements to run code if a statement is ``False``. The code under the \"if\" statement is run if the statement is ``True``, and the code under \"else\" is run if the statement is ``False``."
   ]
  },
  {
   "cell_type": "code",
   "execution_count": 6,
   "metadata": {},
   "outputs": [],
   "source": [
    "def evaluate_temp_with_else(temp):\n",
    "    if temp > 38:\n",
    "        message = \"Fever!\"\n",
    "    else:\n",
    "        message = \"Normal temperature.\"\n",
    "    return message"
   ]
  },
  {
   "cell_type": "markdown",
   "metadata": {},
   "source": [
    "This ``evaluate_temp_with_else()`` function has equivalent behavior to the ``evaluate_temp()`` function.\n",
    "\n",
    "In the next code cell, we call this new function, where the temperature is 37°C. In this case, ``temp > 38`` evaluates to ``False``, so the code under the \"else\" statement is executed, and the ``Normal temperature``. message is returned."
   ]
  },
  {
   "cell_type": "code",
   "execution_count": 7,
   "metadata": {},
   "outputs": [
    {
     "name": "stdout",
     "output_type": "stream",
     "text": [
      "Normal temperature.\n"
     ]
    }
   ],
   "source": [
    "print(evaluate_temp_with_else(37))"
   ]
  },
  {
   "cell_type": "markdown",
   "metadata": {},
   "source": [
    "As with the previous function, we indent the code blocks after the \"if\" and \"else\" statements."
   ]
  },
  {
   "cell_type": "markdown",
   "metadata": {},
   "source": [
    "## \"if ... elif ... else\" statements\n",
    "We can use \"elif\" (which is short for \"else if\") to check if multiple conditions might be true. The function below:\n",
    "\n",
    "- First checks if ``temp > 38``. If this is true, then the message is set to ``\"Fever!\"``.\n",
    "\n",
    "- As long as the message has not already been set, the function then checks if ``temp > 35``. If this is true, then the message is set to ``\"Normal temperature.\"``.\n",
    "\n",
    "- Then, if still no message has been set, the \"else\" statement ensures that the message is set to ``\"Low temperature.\"`` message is printed.\n",
    "\n",
    "You can think of \"elif\" as saying ... \"okay, that previous condition (e.g., ``temp > 38``) was false, so let's check if this new condition (e.g., ``temp > 35``) might be true!\""
   ]
  },
  {
   "cell_type": "code",
   "execution_count": 9,
   "metadata": {},
   "outputs": [],
   "source": [
    "def evaluate_temp_with_elif(temp):\n",
    "    if temp > 38:\n",
    "        message = \"Fever!\"\n",
    "    elif temp > 35:\n",
    "        message = \"Normal temperature.\"\n",
    "    else:\n",
    "        message = \"Low temperature.\"\n",
    "    return message"
   ]
  },
  {
   "cell_type": "markdown",
   "metadata": {},
   "source": [
    "In the code cell below, we run the code under the \"elif\" statement, because ``temp > 38`` is ``False``, and ``temp > 35`` is ``True``. Once this code is run, the function skips over the \"else\" statement and returns the message."
   ]
  },
  {
   "cell_type": "code",
   "execution_count": 10,
   "metadata": {},
   "outputs": [
    {
     "data": {
      "text/plain": [
       "'Normal temperature.'"
      ]
     },
     "execution_count": 10,
     "metadata": {},
     "output_type": "execute_result"
    }
   ],
   "source": [
    "evaluate_temp_with_elif(36)"
   ]
  },
  {
   "cell_type": "markdown",
   "metadata": {},
   "source": [
    "Finally, we try out a case where the temperature is less than 35°C. Since the conditionals in the \"if\" and \"elif\" statements both evaluate to ``False``, the code block inside the \"else\" statement is executed."
   ]
  },
  {
   "cell_type": "code",
   "execution_count": 11,
   "metadata": {},
   "outputs": [
    {
     "data": {
      "text/plain": [
       "'Low temperature.'"
      ]
     },
     "execution_count": 11,
     "metadata": {},
     "output_type": "execute_result"
    }
   ],
   "source": [
    "evaluate_temp_with_elif(34)"
   ]
  },
  {
   "cell_type": "markdown",
   "metadata": {},
   "source": [
    "# Example - Calculations\n",
    "In the examples so far, conditional statements were used to decide how to set the values of variables. But you can also use conditional statements to perform different calculations.\n",
    "\n",
    "In this next example, say you live in a country with only two tax brackets. Everyone earning less than 12,000 pays 25% in taxes, and anyone earning 12,000 or more pays 30%. The function below calculates how much tax is owed."
   ]
  },
  {
   "cell_type": "code",
   "execution_count": 12,
   "metadata": {},
   "outputs": [],
   "source": [
    "def get_taxes(earnings):\n",
    "    if earnings < 12000:\n",
    "        tax_owed = .25 * earnings\n",
    "    else:\n",
    "        tax_owed = .30 * earnings\n",
    "    return tax_owed"
   ]
  },
  {
   "cell_type": "markdown",
   "metadata": {},
   "source": [
    "The next code cell uses the function."
   ]
  },
  {
   "cell_type": "code",
   "execution_count": 13,
   "metadata": {},
   "outputs": [
    {
     "name": "stdout",
     "output_type": "stream",
     "text": [
      "2250.0\n",
      "4500.0\n"
     ]
    }
   ],
   "source": [
    "ana_taxes = get_taxes(9000)\n",
    "bob_taxes = get_taxes(15000)\n",
    "\n",
    "print(ana_taxes)\n",
    "print(bob_taxes)"
   ]
  },
  {
   "cell_type": "markdown",
   "metadata": {},
   "source": [
    "In each case, we call the ``get_taxes()`` function and use the value that is returned to set the value of a variable.\n",
    "\n",
    "- For ``ana_taxes``, we calculate taxes owed by a person who earns 9,000. In this case, we call the ``get_taxes()`` function with earnings set to ``9000``. Thus, ``earnings < 12000`` is ``True``, and ``tax_owed`` is set to ``.25 * 9000``. Then we return the value of ``tax_owed``.\n",
    "- For ``bob_taxes``, we calculate taxes owed by a person who earns 15,000. In this case, we call the ``get_taxes()`` function with earnings set to ``15000``. Thus, ``earnings < 12000`` is ``False``, and ``tax_owed`` is set to ``.30 * 15000``. Then we return the value of ``tax_owed``.\n",
    "\n",
    "Before we move on to another example - remember the ``add_three_or_eight()`` function from the introduction? It accepts a number as input and adds three if the input is less than 10, and otherwise adds eight. Can you figure out how you would write this function? Once you have an answer, click on the \"Show hidden code\" button below to see the solution."
   ]
  },
  {
   "cell_type": "markdown",
   "metadata": {},
   "source": [
    "<details>\n",
    "<summary>Show hidden code</summary>\n",
    "def add_three_or_eight(number):<br>\n",
    "&nbsp&nbsp&nbsp&nbsp if number < 10:<br>\n",
    "&nbsp&nbsp&nbsp&nbsp&nbsp&nbsp&nbsp&nbsp result = number + 3<br>\n",
    "&nbsp&nbsp&nbsp&nbsp else:<br>\n",
    "&nbsp&nbsp&nbsp&nbsp&nbsp&nbsp&nbsp&nbsp result = number + 8<br>\n",
    "&nbsp&nbsp&nbsp&nbsp return result\n",
    "</details>"
   ]
  },
  {
   "cell_type": "markdown",
   "metadata": {},
   "source": [
    "# Example - Multiple \"elif\" statements\n",
    "So far, you have seen \"elif\" used only once in a function. But there's no limit to the number of \"elif\" statements you can use. For instance, the next block of code calculates the dose of medication (in milliliters) to give to a child, based on weight (in kilograms).\n",
    "\n",
    "Note: This function should not be used as medical advice, and represents a fake medication."
   ]
  },
  {
   "cell_type": "code",
   "execution_count": 14,
   "metadata": {},
   "outputs": [],
   "source": [
    "def get_dose(weight):\n",
    "    # Dosage is 1.25 ml for anyone under 5.2 kg\n",
    "    if weight < 5.2:\n",
    "        dose = 1.25\n",
    "    elif weight < 7.9:\n",
    "        dose = 2.5\n",
    "    elif weight < 10.4:\n",
    "        dose = 3.75\n",
    "    elif weight < 15.9:\n",
    "        dose = 5\n",
    "    elif weight < 21.2:\n",
    "        dose = 7.5\n",
    "    # Dosage is 10 ml for anyone 21.2 kg or over\n",
    "    else:\n",
    "        dose = 10\n",
    "    return dose"
   ]
  },
  {
   "cell_type": "markdown",
   "metadata": {},
   "source": [
    "The next code cell runs the function. Make sure that the output makes sense to you!\n",
    "\n",
    "- In this case, the \"if\" statement was ``False``, and all of the \"elif\" statements evaluate to ``False``, until we get to ``weight < 15.9``, which is ``True``, and ``dose`` is set to 5.\n",
    "- Once an \"elif\" statement evaluates to ``True`` and the code block is run, the function skips over all remaining \"elif\" and \"else\" statements. After skipping these, all that is left is the return statement, which returns the value of dose.\n",
    "- The order of the ``elif`` statements does matter here! Re-ordering the statements will return a very different result."
   ]
  },
  {
   "cell_type": "code",
   "execution_count": 15,
   "metadata": {},
   "outputs": [
    {
     "name": "stdout",
     "output_type": "stream",
     "text": [
      "5\n"
     ]
    }
   ],
   "source": [
    "print(get_dose(12))"
   ]
  },
  {
   "cell_type": "markdown",
   "metadata": {},
   "source": [
    "Make sure this makes sense to you! Once you're ready, use the link below to move on to the exercise."
   ]
  },
  {
   "cell_type": "markdown",
   "metadata": {},
   "source": []
  }
 ],
 "metadata": {
  "kernelspec": {
   "display_name": ".venv",
   "language": "python",
   "name": "python3"
  },
  "language_info": {
   "codemirror_mode": {
    "name": "ipython",
    "version": 3
   },
   "file_extension": ".py",
   "mimetype": "text/x-python",
   "name": "python",
   "nbconvert_exporter": "python",
   "pygments_lexer": "ipython3",
   "version": "3.10.11"
  }
 },
 "nbformat": 4,
 "nbformat_minor": 2
}
