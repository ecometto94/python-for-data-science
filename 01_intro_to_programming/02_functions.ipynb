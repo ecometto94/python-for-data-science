{
 "cells": [
  {
   "cell_type": "markdown",
   "metadata": {},
   "source": [
    "# Introduction"
   ]
  },
  {
   "cell_type": "markdown",
   "metadata": {},
   "source": [
    "In this lesson, you will learn how to organize your code with **functions**. A function is a block of code designed to perform a specific task. As you'll see, functions will let you do roughly the same calculation multiple times without duplicating any code."
   ]
  },
  {
   "cell_type": "markdown",
   "metadata": {},
   "source": [
    "# Intro to functions: a simple example"
   ]
  },
  {
   "cell_type": "markdown",
   "metadata": {},
   "source": [
    "We begin with a simple example of a function. The ``add_three()`` function below accepts any number, adds three to it, and then returns the result."
   ]
  },
  {
   "cell_type": "code",
   "execution_count": 2,
   "metadata": {},
   "outputs": [],
   "source": [
    "# Define the function\n",
    "def add_three(input_var):\n",
    "    output_var = input_var + 3\n",
    "    return output_var"
   ]
  },
  {
   "cell_type": "markdown",
   "metadata": {},
   "source": [
    "Every function is composed of two pieces: a **header** and **body**.\n",
    "\n",
    "![function](../imgs/functions.png)"
   ]
  },
  {
   "cell_type": "markdown",
   "metadata": {},
   "source": [
    "## Header\n",
    "The function **header** defines the name of the function and its argument(s).\n",
    "\n",
    "- Every function header begins with ``def``, which tells Python that we are about to define a function.\n",
    "- In the example, the function name is ``add_three``.\n",
    "- In the example, the argument is ``input_var``. The **argument** is the name of the variable that will be used as input to the function. It is always enclosed in parentheses that apppear immediately after the name of the function. *(Note that a function can also have no arguments, or it can have multiple arguments. You'll see some examples of this later in the lesson.)*\n",
    "- For every function, the parentheses enclosing the function argument(s) must be followed by a colon ``:``.\n",
    "\n",
    "## Body\n",
    "The function **body** specifies the work that the function does.\n",
    "\n",
    "- Every line of code in the function body must be indented exactly four spaces. You can do this by pushing the space bar four times, or by hitting the \"Tab\" button once on your keyboard. *(As you learn more about Python, you may need to indent your code by more than four spaces, but you'll learn more about that later in this course.)*\n",
    "- The function does its work by running all of the indented lines from top to bottom.\n",
    "    - It takes the argument as input, which in the example is ``input_var``.\n",
    "    - The function creates a new variable ``output_var`` with the calculation ``output_var = input_var + 3``.\n",
    "    - Then, the final line of code, called the **return statement**, just returns the value in ``output_var`` as the function's output.\n",
    "\n",
    "The code cell above just defines the function, but does not run it. The details of the function body will make more sense after the next code cell, when we actually run the function.\n",
    "\n",
    "## How to run (or \"call\") a function\n",
    "When we run a function, it can also be referred to as \"calling\" the function.\n",
    "\n",
    "In the code cell below, we run the function with ``10`` as the input value. We define a new variable ``new_number`` which is set to the output of the function."
   ]
  },
  {
   "cell_type": "code",
   "execution_count": 3,
   "metadata": {},
   "outputs": [
    {
     "name": "stdout",
     "output_type": "stream",
     "text": [
      "13\n"
     ]
    }
   ],
   "source": [
    "# Run the function with 10 as input\n",
    "new_number = add_three(10)\n",
    "\n",
    "# Check that the value is 13, as expected\n",
    "print(new_number)"
   ]
  },
  {
   "cell_type": "markdown",
   "metadata": {},
   "source": [
    "![function_2](../imgs/functions_2.png)"
   ]
  },
  {
   "cell_type": "markdown",
   "metadata": {},
   "source": [
    "In more detail,\n",
    "\n",
    "- ``add_three(10)`` is the value that we get as output when we supply 10 as the value for ``input_var`` and call the ``add_three()`` function. When the function runs, it runs all of the code in its body, from top to bottom:\n",
    "    - It first calculates ``output_var = input_var + 3``, which sets ``output_var = 13``.\n",
    "    - The final line of code is the return statement, which returns the value of ``output_var``, which is ``13``.\n",
    "- By setting ``new_number = add_three(10)``, we set ``new_number = 13``.\n",
    "\n",
    "\n",
    "**Note**: When we casually refer to the ``add_three()`` function in this tutorial, we use empty closing parentheses after the function name. This is consistent with how people generally write explanations of Python code, and the empty parentheses just make it clear that we are referring to a function, as opposed to a variable or another Python object. These parentheses should always be empty, even if the function has arguments."
   ]
  },
  {
   "cell_type": "markdown",
   "metadata": {},
   "source": [
    "## Naming functions\n",
    "In the example above, the name of the function was selected for you. When naming your own functions, you should use only lowercase letters, with words separated by underscores instead of spaces.\n",
    "\n",
    "Naming functions will feel natural over time, and it is normal for it to feel uncomfortable at first. The best way to learn is by viewing a lot of Python code."
   ]
  },
  {
   "cell_type": "markdown",
   "metadata": {},
   "source": [
    "## A more complex example\n",
    "Now that you understand the basics, we can move on to an example with a longer calculation.\n",
    "\n",
    "Say you are helping a friend to calculate their weekly paycheck after taxes.\n",
    "\n",
    "- They're in a 12% tax bracket (in other words, 12% of their salary is taken for taxes, and they only take home 88%), and\n",
    "- They're paid hourly, at a rate of $15/hour.\n",
    "\n",
    "The function below calculates the paycheck based on the number of hours worked. The function is more complicated than with the first example, because the function has more lines of code and comments. Similar to the example above, the function has a single argument (``num_hours``). In the function body, we:\n",
    "\n",
    "- Use the value for ``num_hours`` to specify the value for a new variable ``pay_pretax``.\n",
    "- Use the value of ``pay_pretax`` to specify the value for a new variable ``pay_aftertax``.\n",
    "- Return the value of the ``pay_aftertax`` variable."
   ]
  },
  {
   "cell_type": "code",
   "execution_count": 4,
   "metadata": {},
   "outputs": [],
   "source": [
    "def get_pay(num_hours):\n",
    "    # Pre-tax pay, based on receiving $15/hour\n",
    "    pay_pretax = num_hours * 15\n",
    "    # After-tax pay, based on being in 12% tax bracket\n",
    "    pay_aftertax = pay_pretax * (1 - .12)\n",
    "    return pay_aftertax"
   ]
  },
  {
   "cell_type": "markdown",
   "metadata": {},
   "source": [
    "We call this function the same way we called the first function. The next code cell calculates the paycheck, based on working 40 hours. (After taxes, it is $528.)"
   ]
  },
  {
   "cell_type": "code",
   "execution_count": 5,
   "metadata": {},
   "outputs": [
    {
     "name": "stdout",
     "output_type": "stream",
     "text": [
      "528.0\n"
     ]
    }
   ],
   "source": [
    "# Calculate pay based on working 40 hours\n",
    "pay_fulltime = get_pay(40)\n",
    "print(pay_fulltime)"
   ]
  },
  {
   "cell_type": "markdown",
   "metadata": {},
   "source": [
    "To quickly calculate pay based on a different number of hours worked, you need to supply the function with a different number. For instance, say your friend works 32 hours. (Then, they get $422.40.)"
   ]
  },
  {
   "cell_type": "code",
   "execution_count": 6,
   "metadata": {},
   "outputs": [
    {
     "name": "stdout",
     "output_type": "stream",
     "text": [
      "422.4\n"
     ]
    }
   ],
   "source": [
    "pay_parttime = get_pay(32)\n",
    "print(pay_parttime)"
   ]
  },
  {
   "cell_type": "markdown",
   "metadata": {},
   "source": [
    "Because you wrote a function, you can calculate pay for different hours without having to rewrite all of the code in the calculations all over again.\n",
    "\n",
    "Functions can help you to avoid errors in your code, and you save a lot of time. In general, when coding, you should aim to write as little as possible, because each time you type out a calculation, it's another opportunity to accidentally introduce a typo or error."
   ]
  },
  {
   "cell_type": "markdown",
   "metadata": {},
   "source": [
    "## Variable \"scope\"\n",
    "Variables defined inside the function body cannot be accessed outside of the function. For instance, the next code cell errors, because ``pay_aftertax`` only exists inside the function."
   ]
  },
  {
   "cell_type": "code",
   "execution_count": 7,
   "metadata": {},
   "outputs": [
    {
     "ename": "NameError",
     "evalue": "name 'pay_aftertax' is not defined",
     "output_type": "error",
     "traceback": [
      "\u001b[1;31m---------------------------------------------------------------------------\u001b[0m",
      "\u001b[1;31mNameError\u001b[0m                                 Traceback (most recent call last)",
      "Cell \u001b[1;32mIn[7], line 1\u001b[0m\n\u001b[1;32m----> 1\u001b[0m \u001b[38;5;28mprint\u001b[39m(\u001b[43mpay_aftertax\u001b[49m)\n",
      "\u001b[1;31mNameError\u001b[0m: name 'pay_aftertax' is not defined"
     ]
    }
   ],
   "source": [
    "print(pay_aftertax)"
   ]
  },
  {
   "cell_type": "markdown",
   "metadata": {},
   "source": [
    "You will get the same error if you try to print ``pay_pretax`` or ``num_hours``. For this reason, if you need any information from a function, you need to make sure that appears in the return statement at the end of the function.\n",
    "\n",
    "We refer to a variable's **scope** as the part of the code where it is accessible. Variables defined *inside a function* (like ``pay_aftertax``) have a local scope of that function only. However, as you've seen, variables defined *outside all functions* (like ``pay_parttime``) have a global scope and can be accessed anywhere."
   ]
  },
  {
   "cell_type": "markdown",
   "metadata": {},
   "source": [
    "# Functions with multiple arguments\n",
    "So far, you have learned how to define a function with just one argument. To define a function with multiple arguments, you only need to add more arguments inside the parentheses in the function head and separate them with a comma.\n",
    "\n",
    "We do this with the ``get_pay_with_more_inputs()`` function below, which calculates a weekly paycheck based on three arguments:\n",
    "\n",
    "- ``num_hours`` - number of hours worked in one week\n",
    "- ``hourly_wage`` - the hourly wage (in $/hour)\n",
    "- ``tax_bracket`` - percentage of your salary that is removed for taxes"
   ]
  },
  {
   "cell_type": "code",
   "execution_count": 8,
   "metadata": {},
   "outputs": [],
   "source": [
    "def get_pay_with_more_inputs(num_hours, hourly_wage, tax_bracket):\n",
    "    # Pre-tax pay\n",
    "    pay_pretax = num_hours * hourly_wage\n",
    "    # After-tax pay\n",
    "    pay_aftertax = pay_pretax * (1 - tax_bracket)\n",
    "    return pay_aftertax"
   ]
  },
  {
   "cell_type": "markdown",
   "metadata": {},
   "source": [
    "Then, to call the function, you need to provide one value for each input, again separated by a comma.\n",
    "\n",
    "In the code cell below, we calculate the pay after taxes for someone who works 40 hours, makes $24/hour, and is in a 22% tax bracket."
   ]
  },
  {
   "cell_type": "code",
   "execution_count": 9,
   "metadata": {},
   "outputs": [
    {
     "name": "stdout",
     "output_type": "stream",
     "text": [
      "748.8000000000001\n"
     ]
    }
   ],
   "source": [
    "higher_pay_aftertax = get_pay_with_more_inputs(40, 24, .22)\n",
    "print(higher_pay_aftertax)"
   ]
  },
  {
   "cell_type": "markdown",
   "metadata": {},
   "source": [
    "The following code cell gives the same result as when we ran ``get_pay(40)``, because ``hourly_wage`` is set to 15, and ``tax_bracket`` is set to 12%, which lines up with how we designed ``get_pay``."
   ]
  },
  {
   "cell_type": "code",
   "execution_count": 10,
   "metadata": {},
   "outputs": [
    {
     "name": "stdout",
     "output_type": "stream",
     "text": [
      "528.0\n"
     ]
    }
   ],
   "source": [
    "same_pay_fulltime = get_pay_with_more_inputs(40, 15, .12)\n",
    "print(same_pay_fulltime)"
   ]
  },
  {
   "cell_type": "markdown",
   "metadata": {},
   "source": [
    "Depending on how we plan to use this new function ``get_pay_with_more_inputs()``, it can be more useful than the original function ``get_pay()``, because it addresses more cases. Instead of potentially incorrectly assuming the hourly wage and tax bracket, the new function allows the user to specify the correct values. But, if you're sure the hourly wage and tax bracket won't need to change, the new function is just more complicated than necessary. In general, when defining functions, you'll need to consider how much flexibility you need, based on your use case."
   ]
  },
  {
   "cell_type": "markdown",
   "metadata": {},
   "source": [
    "# Functions with no arguments¶\n",
    "Note that it's possible to define function with no arguments, and that don't have a return statement. The ``print_hello()`` function in the code cell below is an example."
   ]
  },
  {
   "cell_type": "code",
   "execution_count": 11,
   "metadata": {},
   "outputs": [
    {
     "name": "stdout",
     "output_type": "stream",
     "text": [
      "Hello, you!\n",
      "Good morning!\n"
     ]
    }
   ],
   "source": [
    "# Define the function with no arguments and with no return\n",
    "def print_hello():\n",
    "    print(\"Hello, you!\")\n",
    "    print(\"Good morning!\")\n",
    "    \n",
    "# Call the function\n",
    "print_hello()"
   ]
  },
  {
   "cell_type": "markdown",
   "metadata": {},
   "source": [
    "This course is short and meant as an introduction to programming, so we won't cover everything you need to know about functions in this tutorial. You'll learn even more about functions in the Python course."
   ]
  },
  {
   "cell_type": "markdown",
   "metadata": {},
   "source": [
    "# Practice"
   ]
  },
  {
   "cell_type": "markdown",
   "metadata": {},
   "source": [
    "## Question 1\n",
    "In the [House Prices - Advanced Regression Techniques competition](https://www.kaggle.com/c/house-prices-advanced-regression-techniques/overview), you need to use information like the number of bedrooms and bathrooms to predict the price of a house. Inspired by this competition, you'll write your own function to do this.\n",
    "\n",
    "In the next code cell, create a function ``get_expected_cost()`` that has two arguments:\n",
    "\n",
    "- ``beds`` - number of bedrooms\n",
    "- ``baths`` - number of bathrooms\n",
    "It should return the expected cost of a house with that number of bedrooms and bathrooms. Assume that:\n",
    "\n",
    "- the expected cost for a house with 0 bedrooms and 0 bathrooms is ``80000``.\n",
    "- each bedroom adds ``30000`` to the expected cost\n",
    "- each bathroom adds ``10000`` to the expected cost.\n",
    "For instance,\n",
    "\n",
    "a house with 1 bedroom and 1 bathroom has an expected cost of ``120000``, and\n",
    "a house with 2 bedrooms and 1 bathroom has an expected cost of ``150000``."
   ]
  },
  {
   "cell_type": "code",
   "execution_count": 3,
   "metadata": {},
   "outputs": [],
   "source": [
    "# TODO: Complete the function\n",
    "def get_expected_cost(beds, baths):\n",
    "    ...\n",
    "\n",
    "\n",
    "# Test\n",
    "from tests import cost_1_bedroom_1_bathroom, cost_2_bedroom_1_bathroom\n",
    "assert get_expected_cost(1, 1) == cost_1_bedroom_1_bathroom\n",
    "assert get_expected_cost(2, 1) == cost_2_bedroom_1_bathroom"
   ]
  },
  {
   "cell_type": "markdown",
   "metadata": {},
   "source": [
    "## Question 2\n",
    "You are thinking about buying a home and want to get an idea of how much you will spend, based on the number of bedrooms and bathrooms. You are trying to decide between four different options:\n",
    "\n",
    "- Option 1: house with two bedrooms and three bathrooms\n",
    "- Option 2: house with three bedrooms and two bathrooms\n",
    "- Option 3: house with three bedrooms and three bathrooms\n",
    "- Option 4: house with three bedrooms and four bathrooms\n",
    "\n",
    "Use the ``get_expected_cost()`` function you defined in question 1 to set ``option_1``, `option_2`, ``option_3``, and ``option_4`` to the expected cost of each option."
   ]
  },
  {
   "cell_type": "code",
   "execution_count": 2,
   "metadata": {},
   "outputs": [],
   "source": [
    "# TODO: Use the get_expected_cost function to fill in each value\n",
    "option_one = ...\n",
    "option_two = ...\n",
    "option_three = ...\n",
    "option_four = ...\n",
    "\n",
    "# Test\n",
    "from tests import expected_options\n",
    "assert option_one == expected_options[0]\n",
    "assert option_two == expected_options[1]\n",
    "assert option_three == expected_options[2]\n",
    "assert option_four == expected_options[3]"
   ]
  },
  {
   "cell_type": "markdown",
   "metadata": {},
   "source": [
    "## Question 3\n",
    "You're a home decorator, and you'd like to use Python to streamline some of your work. Specifically, you're creating a tool that you intend to use to calculate the cost of painting a room.\n",
    "\n",
    "As a first step, define a function ``get_cost()`` that takes as input:\n",
    "\n",
    "- ``sqft_walls`` = total square feet of walls to be painted\n",
    "- ``sqft_ceiling`` = square feet of ceiling to be painted\n",
    "- ``sqft_per_gallon`` = number of square feet that you can cover with one gallon of paint\n",
    "- ``cost_per_gallon`` = cost (in dollars) of one gallon of paint\n",
    "\n",
    "It should return the cost (in dollars) of putting one coat of paint on all walls and the ceiling. Assume you can buy the exact amount of paint that you need, so you can buy partial gallons (e.g., if you need 7.523 gallons, you can buy that exact amount, instead of needing to buy 8 gallons and waste some paint). Do not round your answer."
   ]
  },
  {
   "cell_type": "code",
   "execution_count": null,
   "metadata": {},
   "outputs": [],
   "source": [
    "# TODO: define the function\n",
    "def get_cost():\n",
    "    ...\n",
    "\n",
    "# Test\n",
    "from tests import q3_expected_results\n",
    "assert get_cost(2, 1, 6, 15) == q3_expected_results[0]\n",
    "assert get_cost(3, 0, 3, 10) == q3_expected_results[1]\n",
    "assert get_cost(0, 7, 1.6, 5) == q3_expected_results[2]"
   ]
  },
  {
   "cell_type": "markdown",
   "metadata": {},
   "source": [
    "## Question 4\n",
    "Use the ``get_cost()`` function you defined in Question 3 to calculate the cost of applying one coat of paint to a room with:\n",
    "\n",
    "- 432 square feet of walls, and\n",
    "- 145 square feet of ceiling.\n",
    "\n",
    "Assume that one gallon of paint covers 400 square feet and costs $15. As in Question 3, assume you can buy partial gallons of paint. Do not round your answer."
   ]
  },
  {
   "cell_type": "code",
   "execution_count": null,
   "metadata": {},
   "outputs": [],
   "source": [
    "# TODO: Set the project_cost variable to the cost of the project\n",
    "project_cost = ...\n",
    "\n",
    "# Test\n",
    "from tests import expected_project_cost\n",
    "assert project_cost == expected_project_cost"
   ]
  },
  {
   "cell_type": "markdown",
   "metadata": {},
   "source": [
    "## Question 5\n",
    "Now say you can no longer buy fractions of a gallon. (For instance, if you need 4.3 gallons to do a project, then you have to buy 5 gallons of paint.)\n",
    "\n",
    "With this new scenario, you will create a new function ``get_actual_cost`` that uses the same inputs and calculates the cost of your project.\n",
    "\n",
    "One function that you'll need to use to do this is ``math.ceil()``. We demonstrate usage of this function in the code cell below. It takes as a number as input and rounds the number up to the next integer.\n",
    "\n",
    "Run the next code cell to test this function for yourself. Feel free to change the value of ``test_value`` and make sure ``math.ceil()`` returns the number you expect."
   ]
  },
  {
   "cell_type": "code",
   "execution_count": 4,
   "metadata": {},
   "outputs": [
    {
     "name": "stdout",
     "output_type": "stream",
     "text": [
      "3\n"
     ]
    }
   ],
   "source": [
    "import math\n",
    "test_value = 2.17\n",
    "\n",
    "rounded_value = math.ceil(test_value)\n",
    "print(rounded_value)"
   ]
  },
  {
   "cell_type": "markdown",
   "metadata": {},
   "source": [
    "Use the next code cell to define the function ``get_actual_cost()``. You'll need to use the ``math.ceil()`` function to do this."
   ]
  },
  {
   "cell_type": "code",
   "execution_count": null,
   "metadata": {},
   "outputs": [],
   "source": [
    "def get_actual_cost(sqft_walls, sqft_ceiling, sqft_per_gallon, cost_per_gallon):\n",
    "    ...\n",
    "\n",
    "# Test\n",
    "from tests import q5_expected_results\n",
    "assert get_actual_cost(2, 1, 6, 15) == q3_expected_results[0]\n",
    "assert get_actual_cost(3, 0, 3, 10) == q3_expected_results[1]\n",
    "assert get_actual_cost(0, 7, 1.6, 5) == q3_expected_results[2]"
   ]
  },
  {
   "cell_type": "markdown",
   "metadata": {},
   "source": [
    "Once your function is verified as correct, run the next code cell to calculate the updated cost of your project."
   ]
  },
  {
   "cell_type": "code",
   "execution_count": null,
   "metadata": {},
   "outputs": [],
   "source": [
    "get_actual_cost(432, 144, 400, 15) "
   ]
  },
  {
   "cell_type": "markdown",
   "metadata": {},
   "source": [
    "Say you're working with a slightly larger room. Run the next code cell to calculate the cost of the project."
   ]
  },
  {
   "cell_type": "code",
   "execution_count": null,
   "metadata": {},
   "outputs": [],
   "source": [
    "get_actual_cost(594, 288, 400, 15)"
   ]
  },
  {
   "cell_type": "markdown",
   "metadata": {},
   "source": [
    "# Keep going\n",
    "Continue to learn about [data types](03_data_types.ipynb)."
   ]
  }
 ],
 "metadata": {
  "kernelspec": {
   "display_name": ".venv",
   "language": "python",
   "name": "python3"
  },
  "language_info": {
   "codemirror_mode": {
    "name": "ipython",
    "version": 3
   },
   "file_extension": ".py",
   "mimetype": "text/x-python",
   "name": "python",
   "nbconvert_exporter": "python",
   "pygments_lexer": "ipython3",
   "version": "3.10.11"
  }
 },
 "nbformat": 4,
 "nbformat_minor": 2
}
